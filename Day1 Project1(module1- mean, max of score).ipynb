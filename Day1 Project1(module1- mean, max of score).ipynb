{
 "cells": [
  {
   "cell_type": "code",
   "execution_count": 20,
   "id": "218a6fc6",
   "metadata": {},
   "outputs": [
    {
     "data": {
      "text/plain": [
       "array([[  0., 100.,  78., 342.],\n",
       "       [  1.,  11.,  62., 191.],\n",
       "       [  2.,   8.,  85., 252.],\n",
       "       [  3.,  71.,  24., 307.],\n",
       "       [  4., 104.,  17., 229.],\n",
       "       [  5.,  18., 104., 246.],\n",
       "       [  6.,   8.,  76., 226.],\n",
       "       [  7.,  86.,  74., 288.],\n",
       "       [  8.,  12.,  60., 216.],\n",
       "       [  9.,  25.,  90., 304.],\n",
       "       [ 10.,  56.,   6., 272.],\n",
       "       [ 11.,  88.,  69., 302.],\n",
       "       [ 12., 147.,  65., 312.],\n",
       "       [ 13., 121., 146., 370.],\n",
       "       [ 15.,  99., 110., 362.]])"
      ]
     },
     "execution_count": 20,
     "metadata": {},
     "output_type": "execute_result"
    }
   ],
   "source": [
    "import numpy as np\n",
    "cric_data=np.loadtxt(\"cris.tsv\",skiprows=1)\n",
    "cric_data\n"
   ]
  },
  {
   "cell_type": "code",
   "execution_count": 21,
   "id": "1e9bba24",
   "metadata": {},
   "outputs": [
    {
     "data": {
      "text/plain": [
       "array([100.,  11.,   8.,  71., 104.,  18.,   8.,  86.,  12.,  25.,  56.,\n",
       "        88., 147., 121.,  99.])"
      ]
     },
     "execution_count": 21,
     "metadata": {},
     "output_type": "execute_result"
    }
   ],
   "source": [
    "import numpy as np\n",
    "cric_data=np.loadtxt(\"cris.tsv\",skiprows=1)\n",
    "sachin=cric_data[:,1]\n",
    "sachin"
   ]
  },
  {
   "cell_type": "code",
   "execution_count": 22,
   "id": "200b5b8c",
   "metadata": {},
   "outputs": [
    {
     "data": {
      "text/plain": [
       "array([ 78.,  62.,  85.,  24.,  17., 104.,  76.,  74.,  60.,  90.,   6.,\n",
       "        69.,  65., 146., 110.])"
      ]
     },
     "execution_count": 22,
     "metadata": {},
     "output_type": "execute_result"
    }
   ],
   "source": [
    "import numpy as np\n",
    "cric_data=np.loadtxt(\"cris.tsv\",skiprows=1)\n",
    "dravid=cric_data[:,2]\n",
    "dravid"
   ]
  },
  {
   "cell_type": "code",
   "execution_count": 23,
   "id": "eda470ba",
   "metadata": {},
   "outputs": [
    {
     "data": {
      "text/plain": [
       "array([342., 191., 252., 307., 229., 246., 226., 288., 216., 304., 272.,\n",
       "       302., 312., 370., 362.])"
      ]
     },
     "execution_count": 23,
     "metadata": {},
     "output_type": "execute_result"
    }
   ],
   "source": [
    "import numpy as np\n",
    "cric_data=np.loadtxt(\"cris.tsv\",skiprows=1)\n",
    "india=cric_data[:,3]\n",
    "india"
   ]
  },
  {
   "cell_type": "code",
   "execution_count": 28,
   "id": "137356fe",
   "metadata": {},
   "outputs": [
    {
     "name": "stdout",
     "output_type": "stream",
     "text": [
      "63.6\n",
      "147.0\n"
     ]
    }
   ],
   "source": [
    "print(sachin.mean())\n",
    "print(sachin.max())\n"
   ]
  },
  {
   "cell_type": "code",
   "execution_count": 29,
   "id": "357fa244",
   "metadata": {},
   "outputs": [
    {
     "name": "stdout",
     "output_type": "stream",
     "text": [
      "71.06666666666666\n",
      "146.0\n"
     ]
    }
   ],
   "source": [
    "print(dravid.mean())\n",
    "print(dravid.max())"
   ]
  },
  {
   "cell_type": "code",
   "execution_count": 30,
   "id": "f96b57a9",
   "metadata": {},
   "outputs": [
    {
     "name": "stdout",
     "output_type": "stream",
     "text": [
      "281.26666666666665\n",
      "370.0\n"
     ]
    }
   ],
   "source": [
    "print(india.mean())\n",
    "print(india.max())"
   ]
  }
 ],
 "metadata": {
  "kernelspec": {
   "display_name": "Python 3 (ipykernel)",
   "language": "python",
   "name": "python3"
  },
  "language_info": {
   "codemirror_mode": {
    "name": "ipython",
    "version": 3
   },
   "file_extension": ".py",
   "mimetype": "text/x-python",
   "name": "python",
   "nbconvert_exporter": "python",
   "pygments_lexer": "ipython3",
   "version": "3.9.13"
  }
 },
 "nbformat": 4,
 "nbformat_minor": 5
}
